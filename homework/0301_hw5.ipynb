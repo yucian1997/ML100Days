{
 "cells": [
  {
   "cell_type": "code",
   "execution_count": 1,
   "metadata": {},
   "outputs": [],
   "source": [
    "import numpy as np"
   ]
  },
  {
   "cell_type": "markdown",
   "metadata": {},
   "source": [
    "#1. 請計算各科成績平均、最大值、最小值、標準差，其中數學缺一筆資料可忽略?"
   ]
  },
  {
   "cell_type": "code",
   "execution_count": 17,
   "metadata": {},
   "outputs": [
    {
     "name": "stdout",
     "output_type": "stream",
     "text": [
      "english_avg =  67.16666666666667 , math_avg =  333.0 , chinese_avg =  452\n",
      "english_max =  89 , math_max =  85.0 , chinese_max =  90\n",
      "english_min =  48 , math_min =  60.0 , chinese_min =  65\n",
      "english_std =  13.433995020924426 , math_std =  9.707728879609279 , chinese_std =  8.825468196582484\n"
     ]
    }
   ],
   "source": [
    "english_score = np.array([55,89,76,65,48,70])\n",
    "math_score = np.array([60,85,60,68,np.nan,60])\n",
    "chinese_score = np.array([65,90,82,72,66,77])\n",
    "\n",
    "english_avg = np.average(english_score)\n",
    "math_avg = np.nansum(math_score)\n",
    "chinese_avg = np.sum(chinese_score)\n",
    "\n",
    "print(\"english_avg = \",english_avg,\", math_avg = \",math_avg,\", chinese_avg = \",chinese_avg)\n",
    "\n",
    "english_max = np.nanmax(english_score)\n",
    "math_max = np.nanmax(math_score)\n",
    "chinese_max = np.nanmax(chinese_score)\n",
    "\n",
    "print(\"english_max = \",english_max,\", math_max = \",math_max,\", chinese_max = \",chinese_max)\n",
    "\n",
    "english_min = np.nanmin(english_score)\n",
    "math_min = np.nanmin(math_score)\n",
    "chinese_min = np.nanmin(chinese_score)\n",
    "\n",
    "print(\"english_min = \",english_min,\", math_min = \",math_min,\", chinese_min = \",chinese_min)\n",
    "\n",
    "english_std = np.nanstd(english_score)\n",
    "math_std = np.nanstd(math_score)\n",
    "chinese_std = np.nanstd(chinese_score)\n",
    "\n",
    "print(\"english_std = \",english_std,\", math_std = \",math_std,\", chinese_std = \",chinese_std)\n",
    "\n",
    "\n"
   ]
  },
  {
   "cell_type": "markdown",
   "metadata": {},
   "source": [
    "#2. 第五位同學補考數學後成績為55，請計算補考後數學成績平均、最大值、最小值、標準差?"
   ]
  },
  {
   "cell_type": "code",
   "execution_count": 21,
   "metadata": {},
   "outputs": [
    {
     "name": "stdout",
     "output_type": "stream",
     "text": [
      "english_avg =  67.16666666666667 , math_avg =  388.0 , chinese_avg =  452\n",
      "english_max =  89 , math_max =  85.0 , chinese_max =  90\n",
      "english_min =  48 , math_min =  55.0 , chinese_min =  65\n",
      "english_std =  13.433995020924426 , math_std =  9.860132971832694 , chinese_std =  8.825468196582484\n"
     ]
    }
   ],
   "source": [
    "math_score[4]=55.\n",
    "\n",
    "english_avg = np.average(english_score)\n",
    "math_avg = np.nansum(math_score)\n",
    "chinese_avg = np.sum(chinese_score)\n",
    "\n",
    "print(\"english_avg = \",english_avg,\", math_avg = \",math_avg,\", chinese_avg = \",chinese_avg)\n",
    "\n",
    "english_max = np.nanmax(english_score)\n",
    "math_max = np.nanmax(math_score)\n",
    "chinese_max = np.nanmax(chinese_score)\n",
    "\n",
    "print(\"english_max = \",english_max,\", math_max = \",math_max,\", chinese_max = \",chinese_max)\n",
    "\n",
    "english_min = np.nanmin(english_score)\n",
    "math_min = np.nanmin(math_score)\n",
    "chinese_min = np.nanmin(chinese_score)\n",
    "\n",
    "print(\"english_min = \",english_min,\", math_min = \",math_min,\", chinese_min = \",chinese_min)\n",
    "\n",
    "english_std = np.nanstd(english_score)\n",
    "math_std = np.nanstd(math_score)\n",
    "chinese_std = np.nanstd(chinese_score)\n",
    "\n",
    "print(\"english_std = \",english_std,\", math_std = \",math_std,\", chinese_std = \",chinese_std)\n",
    "\n"
   ]
  },
  {
   "cell_type": "markdown",
   "metadata": {},
   "source": [
    "#3. 用補考後資料找出與國文成績相關係數最高的學科?"
   ]
  },
  {
   "cell_type": "code",
   "execution_count": 38,
   "metadata": {},
   "outputs": [
    {
     "data": {
      "text/plain": [
       "array([[False,  True],\n",
       "       [ True, False]])"
      ]
     },
     "execution_count": 38,
     "metadata": {},
     "output_type": "execute_result"
    }
   ],
   "source": [
    "cor_english = np.corrcoef(chinese_score,english_score)\n",
    "cor_math = np.corrcoef(chinese_score,math_score)\n",
    "\n",
    "ans = np.greater(cor_english,cor_math)\n",
    "ans"
   ]
  }
 ],
 "metadata": {
  "kernelspec": {
   "display_name": "Python 3",
   "language": "python",
   "name": "python3"
  },
  "language_info": {
   "codemirror_mode": {
    "name": "ipython",
    "version": 3
   },
   "file_extension": ".py",
   "mimetype": "text/x-python",
   "name": "python",
   "nbconvert_exporter": "python",
   "pygments_lexer": "ipython3",
   "version": "3.8.5"
  }
 },
 "nbformat": 4,
 "nbformat_minor": 4
}
